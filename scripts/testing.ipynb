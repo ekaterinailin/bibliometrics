{
 "cells": [
  {
   "cell_type": "code",
   "execution_count": 2,
   "metadata": {},
   "outputs": [
    {
     "name": "stdout",
     "output_type": "stream",
     "text": [
      "     A  B  C  D\n",
      "0  1.5  2  3  4\n",
      "1  5.0  1  7  8\n",
      "2  9.0  6  2  1\n",
      "          A  B  C  D\n",
      "0  5.166667  2  3  4\n",
      "1  5.000000  3  7  8\n",
      "2  9.000000  6  4  1\n"
     ]
    }
   ],
   "source": [
    "import pandas as pd\n",
    "\n",
    "\n",
    "def modify_diagonal(df):\n",
    "  \"\"\"Modifies the diagonal of a dataframe with mean of each column.\n",
    "\n",
    "  Args:\n",
    "      df: A pandas dataframe.\n",
    "\n",
    "  Returns:\n",
    "      A pandas dataframe with the modified diagonal.\n",
    "  \"\"\"\n",
    "  for i in range(df.shape[0]):\n",
    "    df.iloc[i, i] = df.iloc[:, i].mean()\n",
    "  return df\n",
    "\n",
    "# Example usage\n",
    "example_df = pd.DataFrame([[1.5, 2, 3, 4], [5, 1, 7, 8], [9, 6, 2, 1]], columns=list('ABCD'))\n",
    "print(example_df)\n",
    "result_df = modify_diagonal(example_df.copy())\n",
    "print(result_df)\n"
   ]
  },
  {
   "cell_type": "code",
   "execution_count": 7,
   "metadata": {},
   "outputs": [
    {
     "name": "stdout",
     "output_type": "stream",
     "text": [
      "   col1  col3  col4\n",
      "4     1    10    15\n"
     ]
    }
   ],
   "source": [
    "import pandas as pd\n",
    "\n",
    "def remove_sparse_rows_cols(df, percent_threshold):\n",
    "    \"\"\"\n",
    "    Removes rows and columns from a DataFrame where more than a specified\n",
    "    percentage of values are zero.\n",
    "\n",
    "    Args:\n",
    "        df (pd.DataFrame): The DataFrame to filter.\n",
    "        percent_threshold (float): The percentage of zeros above which a row\n",
    "            or column will be removed. \n",
    "\n",
    "    Returns:\n",
    "        pd.DataFrame: The filtered DataFrame.\n",
    "    \"\"\"\n",
    "\n",
    "    # Filter rows\n",
    "    rows_to_keep = (df != 0).sum(axis=1) / df.shape[1] > 1 - percent_threshold\n",
    "    df = df[rows_to_keep]\n",
    "\n",
    "    # Filter columns\n",
    "    cols_to_keep = (df != 0).sum(axis=0) / df.shape[0] > 1 - percent_threshold\n",
    "    df = df.loc[:, cols_to_keep]\n",
    "\n",
    "    return df\n",
    "\n",
    "# Example usage\n",
    "\n",
    "# Create a sample DataFrame\n",
    "data = {'col1': [0, 1, 0, 4, 1],\n",
    "        'col2': [5, 6, 0, 0, 0],\n",
    "        'col3': [0, 0, 8, 9, 10],\n",
    "        'col4': [11, 0, 13, 0, 15],}\n",
    "df = pd.DataFrame(data)\n",
    "\n",
    "# Apply the function with a threshold of 60% zeros\n",
    "filtered_df = remove_sparse_rows_cols(df, percent_threshold=0.36)\n",
    "print(filtered_df)\n"
   ]
  },
  {
   "cell_type": "code",
   "execution_count": 11,
   "metadata": {},
   "outputs": [
    {
     "name": "stdout",
     "output_type": "stream",
     "text": [
      "   B  C\n",
      "0  0  3\n",
      "1  1  7\n",
      "2  0  0\n"
     ]
    }
   ],
   "source": [
    "import pandas as pd\n",
    "\n",
    "# Create a DataFrame with zeros\n",
    "matrix = pd.DataFrame([[0, 0, 3], [0, 1, 7], [0, 0, 0]], columns=list('ABC'))\n",
    "\n",
    "# Apply the function to remove zero rows and columns\n",
    "result = matrix.loc[:, (matrix != 0).any(axis=0)]\n",
    "\n",
    "# Print the modified DataFrame\n",
    "print(result)\n"
   ]
  },
  {
   "cell_type": "code",
   "execution_count": 14,
   "metadata": {},
   "outputs": [
    {
     "name": "stdout",
     "output_type": "stream",
     "text": [
      "   0  1  2  3  4\n",
      "0  0  0  0  0  0\n",
      "1  0  2  1  5  4\n",
      "2  0  5  7  3  6\n",
      "3  0  3  7  6  1\n",
      "4  0  5  8  4  6\n",
      "   1  2  3  4\n",
      "1  2  1  5  4\n",
      "2  5  7  3  6\n",
      "3  3  7  6  1\n",
      "4  5  8  4  6\n"
     ]
    }
   ],
   "source": [
    "import pandas as pd\n",
    "import numpy as np\n",
    "\n",
    "\n",
    "np.random.seed(2)\n",
    "df = pd.DataFrame(np.random.randint(0,10,size=(5,5)))\n",
    "# set the first row  to zero\n",
    "df.iloc[0] = 0\n",
    "# set the first column to zero\n",
    "df.iloc[:,0] = 0\n",
    "print(df)\n",
    "\n",
    "def g(df):\n",
    "    return df.loc[(df.sum(axis=1) != 0), (df.sum(axis=0) != 0)]\n",
    "\n",
    "result = g(df.copy())\n",
    "print(result)\n",
    "\n"
   ]
  }
 ],
 "metadata": {
  "kernelspec": {
   "display_name": "bibliometrics",
   "language": "python",
   "name": "python3"
  },
  "language_info": {
   "codemirror_mode": {
    "name": "ipython",
    "version": 3
   },
   "file_extension": ".py",
   "mimetype": "text/x-python",
   "name": "python",
   "nbconvert_exporter": "python",
   "pygments_lexer": "ipython3",
   "version": "3.12.2"
  }
 },
 "nbformat": 4,
 "nbformat_minor": 2
}
